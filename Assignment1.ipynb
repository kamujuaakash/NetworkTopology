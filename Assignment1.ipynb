{
 "cells": [
  {
   "cell_type": "code",
   "execution_count": 1,
   "id": "7235c9d2",
   "metadata": {},
   "outputs": [],
   "source": [
    "import networkx as nx\n",
    "import matplotlib.pyplot as plt\n",
    "import pandas as pd\n",
    "import os\n",
    "import csv\n",
    "from IPython.display import HTML, display\n",
    "from pyvis.network import Network\n",
    "net = Network(directed = True, notebook = True, cdn_resources='in_line')"
   ]
  },
  {
   "cell_type": "code",
   "execution_count": 2,
   "id": "ee247689",
   "metadata": {},
   "outputs": [],
   "source": [
    "def list_as_loc(df):\n",
    "    object = []\n",
    "    df2 = df[df['AS Number'] != ' '].iloc[:,[3,4]]\n",
    "    dup_object = [(row['Organization'], row['Location']) for index, row in df2.iterrows()]\n",
    "    [object.append(x) for x in dup_object if x not in object]\n",
    "    return object"
   ]
  },
  {
   "cell_type": "code",
   "execution_count": 3,
   "id": "7e3ee7be",
   "metadata": {},
   "outputs": [],
   "source": [
    "def generate_edges(obj_list):\n",
    "    file_edges = [(object[i], object[i + 1]) for i in range(len(object) - 1)]\n",
    "    return file_edges"
   ]
  },
  {
   "cell_type": "code",
   "execution_count": 4,
   "id": "f9bd2cfb",
   "metadata": {},
   "outputs": [],
   "source": [
    "combined_data = pd.DataFrame()\n",
    "objects = []\n",
    "edges = []\n",
    "colors = []\n",
    "images = []\n",
    "image_list = [\"https://previews.123rf.com/images/larryrains/larryrains1901/larryrains190100027/118556689-laptop-a-vector-cartoon-illustration-of-a-computer-laptop.jpg\",\n",
    "              \"https://img.freepik.com/premium-vector/router-illustration-transparent-background_565844-146.jpg\",\n",
    "              \"https://banner2.cleanpng.com/20180716/sip/kisspng-computer-servers-image-server-windows-server-clip-altar-server-5b4d336330e590.9230925115317860832003.jpg\"]\n",
    "\n",
    "color_list = ['black','olive','sandybrown','gold','green','skyblue','magenta','red','cyan','orange','maroon','pink']\n",
    "dir_name = \".\"\n",
    "for root, dirs, files in os.walk(dir_name):\n",
    "    i = 0\n",
    "    for filename in files:\n",
    "        if filename.endswith('.csv'):\n",
    "            file_path = os.path.join(root, filename)\n",
    "#             print(filename)\n",
    "            df = pd.read_csv(file_path)\n",
    "            object = [f\"{item[0]}, {item[1]}\" for item in list_as_loc(df)]\n",
    "            objects = objects + object\n",
    "            new_edges = generate_edges(object)\n",
    "            edges = edges + new_edges\n",
    "            add_colors = [color_list[i]]*len(new_edges)\n",
    "            image = [image_list[1]]*len(object)\n",
    "            image[0] = image_list[0]\n",
    "            image[len(image) - 1] = image_list[2]\n",
    "            images = images + image\n",
    "            colors = colors + add_colors\n",
    "            i = i + 1\n",
    "#             print(i)"
   ]
  },
  {
   "cell_type": "code",
   "execution_count": 5,
   "id": "dd9900d2",
   "metadata": {},
   "outputs": [],
   "source": [
    "def list_as_as_numbers(df):\n",
    "    object = []\n",
    "    df2 = df[df['AS Number'] != ' '].iloc[:,[1,2]]\n",
    "    dup_object = [(row['AS Number'], row['Range']) for index, row in df2.iterrows()]\n",
    "    [object.append(x) for x in dup_object if x not in object]\n",
    "    return object"
   ]
  },
  {
   "cell_type": "code",
   "execution_count": 6,
   "id": "90e430c1",
   "metadata": {},
   "outputs": [],
   "source": [
    "for i in range(len(objects)):\n",
    "    net.add_node(objects[i],shape = 'image', image = images[i])\n",
    "# for edge in edges:\n",
    "#     net.add_edge(*edge)\n",
    "    \n",
    "\n",
    "for i, (source_node, target_node) in enumerate(edges):\n",
    "    color = colors[i] if i < len(colors) else \"black\"  # Default to black if colors list is shorter\n",
    "    net.add_edge(source_node, target_node, color=color, width = 5)"
   ]
  },
  {
   "cell_type": "code",
   "execution_count": 7,
   "id": "c3ee4e75",
   "metadata": {
    "scrolled": true
   },
   "outputs": [
    {
     "data": {
      "text/html": [
       "\n",
       "<div style=\"background-color: white; padding: 10px; border: 1px solid #ccc;\">\n",
       "    <h3>Legend</h3>\n",
       "    <div style=\"background-color: black; width: 20px; height: 20px; display: inline-block;\"></div> ntt<br>\n",
       "    <div style=\"background-color: olive; width: 20px; height: 20px; display: inline-block;\"></div> google<br>\n",
       "    <div style=\"background-color: sandybrown; width: 20px; height: 20px; display: inline-block;\"></div> Bbc<br>\n",
       "    <div style=\"background-color: gold; width: 20px; height: 20px; display: inline-block;\"></div> cloudflare<br>\n",
       "    <div style=\"background-color: green; width: 20px; height: 20px; display: inline-block;\"></div> wikipedia<br>\n",
       "    <div style=\"background-color: skyblue; width: 20px; height: 20px; display: inline-block;\"></div> lookup<br>\n",
       "    <div style=\"background-color: magenta; width: 20px; height: 20px; display: inline-block;\"></div> cisco<br>\n",
       "    <div style=\"background-color: red; width: 20px; height: 20px; display: inline-block;\"></div> japantimes<br>\n",
       "    <div style=\"background-color: cyan; width: 20px; height: 20px; display: inline-block;\"></div> facebook<br>\n",
       "    <div style=\"background-color: orange; width: 20px; height: 20px; display: inline-block;\"></div> news<br>\n",
       "    <div style=\"background-color: maroon; width: 20px; height: 20px; display: inline-block;\"></div> indiatoday<br>\n",
       "    <div style=\"background-color: pink; width: 20px; height: 20px; display: inline-block;\"></div> archlinux<br>\n",
       "</div>\n"
      ],
      "text/plain": [
       "<IPython.core.display.HTML object>"
      ]
     },
     "metadata": {},
     "output_type": "display_data"
    },
    {
     "name": "stdout",
     "output_type": "stream",
     "text": [
      "nodes.html\n"
     ]
    },
    {
     "data": {
      "text/html": [
       "\n",
       "        <iframe\n",
       "            width=\"100%\"\n",
       "            height=\"600px\"\n",
       "            src=\"nodes.html\"\n",
       "            frameborder=\"0\"\n",
       "            allowfullscreen\n",
       "            \n",
       "        ></iframe>\n",
       "        "
      ],
      "text/plain": [
       "<IPython.lib.display.IFrame at 0x7f878d559930>"
      ]
     },
     "execution_count": 7,
     "metadata": {},
     "output_type": "execute_result"
    }
   ],
   "source": [
    "# Create a custom legend HTML\n",
    "['black','olive','sandybrown','gold','green','skyblue','magenta','red','cyan','orange','maroon','pink']\n",
    "\n",
    "legend_html = \"\"\"\n",
    "<div style=\"background-color: white; padding: 10px; border: 1px solid #ccc;\">\n",
    "    <h3>Legend</h3>\n",
    "    <div style=\"background-color: black; width: 20px; height: 20px; display: inline-block;\"></div> ntt<br>\n",
    "    <div style=\"background-color: olive; width: 20px; height: 20px; display: inline-block;\"></div> google<br>\n",
    "    <div style=\"background-color: sandybrown; width: 20px; height: 20px; display: inline-block;\"></div> Bbc<br>\n",
    "    <div style=\"background-color: gold; width: 20px; height: 20px; display: inline-block;\"></div> cloudflare<br>\n",
    "    <div style=\"background-color: green; width: 20px; height: 20px; display: inline-block;\"></div> wikipedia<br>\n",
    "    <div style=\"background-color: skyblue; width: 20px; height: 20px; display: inline-block;\"></div> lookup<br>\n",
    "    <div style=\"background-color: magenta; width: 20px; height: 20px; display: inline-block;\"></div> cisco<br>\n",
    "    <div style=\"background-color: red; width: 20px; height: 20px; display: inline-block;\"></div> japantimes<br>\n",
    "    <div style=\"background-color: cyan; width: 20px; height: 20px; display: inline-block;\"></div> facebook<br>\n",
    "    <div style=\"background-color: orange; width: 20px; height: 20px; display: inline-block;\"></div> news<br>\n",
    "    <div style=\"background-color: maroon; width: 20px; height: 20px; display: inline-block;\"></div> indiatoday<br>\n",
    "    <div style=\"background-color: pink; width: 20px; height: 20px; display: inline-block;\"></div> archlinux<br>\n",
    "</div>\n",
    "\"\"\"\n",
    "\n",
    "# Display the custom legend HTML\n",
    "display(HTML(legend_html))\n",
    "\n",
    "net.show('nodes.html')"
   ]
  },
  {
   "cell_type": "code",
   "execution_count": 9,
   "id": "7aec8c65",
   "metadata": {},
   "outputs": [
    {
     "data": {
      "text/plain": [
       "104"
      ]
     },
     "execution_count": 9,
     "metadata": {},
     "output_type": "execute_result"
    }
   ],
   "source": [
    "len(net.nodes)"
   ]
  }
 ],
 "metadata": {
  "kernelspec": {
   "display_name": "Python 3 (ipykernel)",
   "language": "python",
   "name": "python3"
  },
  "language_info": {
   "codemirror_mode": {
    "name": "ipython",
    "version": 3
   },
   "file_extension": ".py",
   "mimetype": "text/x-python",
   "name": "python",
   "nbconvert_exporter": "python",
   "pygments_lexer": "ipython3",
   "version": "3.10.12"
  }
 },
 "nbformat": 4,
 "nbformat_minor": 5
}
